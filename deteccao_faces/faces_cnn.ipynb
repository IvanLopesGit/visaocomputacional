{
 "cells": [
  {
   "cell_type": "code",
   "execution_count": 2,
   "metadata": {},
   "outputs": [],
   "source": [
    "import dlib\n",
    "import cv2\n",
    "from cv2 import imshow"
   ]
  },
  {
   "cell_type": "code",
   "execution_count": 3,
   "metadata": {},
   "outputs": [],
   "source": [
    "img = cv2.imread('../deteccao_faces/images/people1.jpg')\n",
    "img = cv2.resize(img, (800, 600))\n",
    "detector_face_cnn = dlib.cnn_face_detection_model_v1('./dat_files/mmod_human_face_detector.dat')"
   ]
  },
  {
   "cell_type": "code",
   "execution_count": 4,
   "metadata": {},
   "outputs": [
    {
     "data": {
      "text/plain": [
       "-1"
      ]
     },
     "execution_count": 4,
     "metadata": {},
     "output_type": "execute_result"
    }
   ],
   "source": [
    "detector = detector_face_cnn(img, 1)\n",
    "for face in detector:\n",
    "    l, t, r, b, c = face.rect.left(), face.rect.top(), face.rect.right(), face.rect.bottom(), face.confidence\n",
    "    cv2.rectangle(img, (l, t), (r, b), (0, 255, 255), 2)\n",
    "\n",
    "cv2.namedWindow(\"ImageWindow\", cv2.WINDOW_NORMAL)\n",
    "cv2.imshow('ImageWindow', img)\n",
    "cv2.waitKey(0)"
   ]
  }
 ],
 "metadata": {
  "kernelspec": {
   "display_name": "Python 3.9.12 ('base')",
   "language": "python",
   "name": "python3"
  },
  "language_info": {
   "codemirror_mode": {
    "name": "ipython",
    "version": 3
   },
   "file_extension": ".py",
   "mimetype": "text/x-python",
   "name": "python",
   "nbconvert_exporter": "python",
   "pygments_lexer": "ipython3",
   "version": "3.9.12"
  },
  "orig_nbformat": 4,
  "vscode": {
   "interpreter": {
    "hash": "ef178a33873f2430054c9513bb7fa643bfa8ed825be01ce2eb8f94dc3af4569a"
   }
  }
 },
 "nbformat": 4,
 "nbformat_minor": 2
}
