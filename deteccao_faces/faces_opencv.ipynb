{
 "cells": [
  {
   "cell_type": "code",
   "execution_count": 1,
   "metadata": {},
   "outputs": [],
   "source": [
    "import cv2\n",
    "from cv2 import imshow\n"
   ]
  },
  {
   "cell_type": "code",
   "execution_count": 2,
   "metadata": {},
   "outputs": [],
   "source": [
    "# Carregamento da imagem\n",
    "img = cv2.imread('../deteccao_faces/images/people1.jpg')\n"
   ]
  },
  {
   "cell_type": "code",
   "execution_count": 3,
   "metadata": {},
   "outputs": [
    {
     "data": {
      "text/plain": [
       "(1280, 1920, 3)"
      ]
     },
     "execution_count": 3,
     "metadata": {},
     "output_type": "execute_result"
    }
   ],
   "source": [
    "# Validação dos pixels da imagem\n",
    "img.shape\n"
   ]
  },
  {
   "cell_type": "code",
   "execution_count": 3,
   "metadata": {},
   "outputs": [
    {
     "data": {
      "text/plain": [
       "-1"
      ]
     },
     "execution_count": 3,
     "metadata": {},
     "output_type": "execute_result"
    }
   ],
   "source": [
    "# Visualização da imagem\n",
    "cv2.imshow('ImageWindow', img)\n",
    "cv2.namedWindow(\"ImageWindow\", cv2.WINDOW_NORMAL)\n",
    "cv2.waitKey(0)\n"
   ]
  },
  {
   "cell_type": "code",
   "execution_count": 5,
   "metadata": {},
   "outputs": [
    {
     "data": {
      "text/plain": [
       "(600, 800, 3)"
      ]
     },
     "execution_count": 5,
     "metadata": {},
     "output_type": "execute_result"
    }
   ],
   "source": [
    "# Ajustando tamanho da imagem\n",
    "img = cv2.resize(img, (800, 600))\n",
    "img.shape\n"
   ]
  },
  {
   "cell_type": "code",
   "execution_count": 6,
   "metadata": {},
   "outputs": [
    {
     "data": {
      "text/plain": [
       "-1"
      ]
     },
     "execution_count": 6,
     "metadata": {},
     "output_type": "execute_result"
    }
   ],
   "source": [
    "# Visualização da imagem em novo tamanho\n",
    "cv2.imshow('ImageWindow', img)\n",
    "cv2.waitKey(0)\n"
   ]
  },
  {
   "cell_type": "code",
   "execution_count": 7,
   "metadata": {},
   "outputs": [
    {
     "data": {
      "text/plain": [
       "-1"
      ]
     },
     "execution_count": 7,
     "metadata": {},
     "output_type": "execute_result"
    }
   ],
   "source": [
    "# Criação da imagem em cinza\n",
    "img_gray = cv2.cvtColor(img, cv2.COLOR_BGR2GRAY)\n",
    "cv2.imshow('ImageWindow', img_gray)\n",
    "cv2.waitKey(0)\n"
   ]
  },
  {
   "cell_type": "code",
   "execution_count": 8,
   "metadata": {},
   "outputs": [],
   "source": [
    "# Criando detector de faces\n",
    "detect_face = cv2.CascadeClassifier(\n",
    "    '../deteccao_faces/xml_files/haarcascade_frontalface_default.xml')\n"
   ]
  },
  {
   "cell_type": "code",
   "execution_count": 9,
   "metadata": {},
   "outputs": [
    {
     "data": {
      "text/plain": [
       "-1"
      ]
     },
     "execution_count": 9,
     "metadata": {},
     "output_type": "execute_result"
    }
   ],
   "source": [
    "detect = detect_face.detectMultiScale(img_gray, scaleFactor=1.08)\n",
    "\n",
    "for x, y, w, h in detect:\n",
    "    cv2.rectangle(img, (x, y), (x + w, y + h), (0, 255, 0), 2)\n",
    "\n",
    "cv2.imshow('ImageWindow', img)\n",
    "cv2.waitKey(0)\n"
   ]
  },
  {
   "cell_type": "code",
   "execution_count": 10,
   "metadata": {},
   "outputs": [
    {
     "name": "stdout",
     "output_type": "stream",
     "text": [
      "45 45\n",
      "48 48\n",
      "46 46\n",
      "47 47\n",
      "47 47\n",
      "49 49\n",
      "49 49\n",
      "48 48\n",
      "50 50\n",
      "47 47\n",
      "44 44\n",
      "48 48\n"
     ]
    },
    {
     "data": {
      "text/plain": [
       "-1"
      ]
     },
     "execution_count": 10,
     "metadata": {},
     "output_type": "execute_result"
    }
   ],
   "source": [
    "img2 = cv2.imread(\"../deteccao_faces/images/people2.jpg\")\n",
    "img2_gray = cv2.cvtColor(img2, cv2.COLOR_BGR2GRAY)\n",
    "detect = detect_face.detectMultiScale(img2_gray, scaleFactor=1.2, minNeighbors=5, minSize=(31, 31), maxSize=(53, 53))\n",
    "for x, y, w, h in detect:\n",
    "    print(w, h)\n",
    "    cv2.rectangle(img2, (x, y), (x + w, y + h), (0, 255, 0), 2)\n",
    "\n",
    "cv2.imshow('ImageWindow', img2)\n",
    "cv2.waitKey(0)\n"
   ]
  },
  {
   "cell_type": "code",
   "execution_count": 11,
   "metadata": {},
   "outputs": [],
   "source": [
    "detect_eyes = cv2.CascadeClassifier('../deteccao_faces/xml_files/haarcascade_eye.xml')"
   ]
  },
  {
   "cell_type": "code",
   "execution_count": 22,
   "metadata": {},
   "outputs": [
    {
     "data": {
      "text/plain": [
       "-1"
      ]
     },
     "execution_count": 22,
     "metadata": {},
     "output_type": "execute_result"
    }
   ],
   "source": [
    "img3 = cv2.imread(\"../deteccao_faces/images/people1.jpg\")\n",
    "# img3 = cv2.resize(img3, (1920, 1080))\n",
    "img3_gray = cv2.cvtColor(img3, cv2.COLOR_BGR2GRAY)\n",
    "detect = detect_face.detectMultiScale(img3_gray, scaleFactor=1.3, minNeighbors=5, minSize=(31, 31))\n",
    "for x, y, w, h in detect:\n",
    "    cv2.rectangle(img3, (x, y), (x + w, y + h), (0, 255, 0), 2)\n",
    "\n",
    "detection_eyes = detect_eyes.detectMultiScale(img3_gray, scaleFactor=1.09, minNeighbors=10, minSize=(21, 21), maxSize=(43, 43))\n",
    "for x, y, w, h in detection_eyes:\n",
    "    cv2.rectangle(img3, (x, y), (x + w, y + h), (0, 0, 255), 2)\n",
    "\n",
    "cv2.namedWindow(\"ImageWindow\", cv2.WINDOW_NORMAL)\n",
    "cv2.imshow('ImageWindow', img3)\n",
    "cv2.waitKey(0)"
   ]
  }
 ],
 "metadata": {
  "interpreter": {
   "hash": "ef178a33873f2430054c9513bb7fa643bfa8ed825be01ce2eb8f94dc3af4569a"
  },
  "kernelspec": {
   "display_name": "Python 3.9.12 ('base')",
   "language": "python",
   "name": "python3"
  },
  "language_info": {
   "codemirror_mode": {
    "name": "ipython",
    "version": 3
   },
   "file_extension": ".py",
   "mimetype": "text/x-python",
   "name": "python",
   "nbconvert_exporter": "python",
   "pygments_lexer": "ipython3",
   "version": "3.9.12"
  },
  "orig_nbformat": 4
 },
 "nbformat": 4,
 "nbformat_minor": 2
}
